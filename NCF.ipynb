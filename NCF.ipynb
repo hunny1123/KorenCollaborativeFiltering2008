{
  "nbformat": 4,
  "nbformat_minor": 0,
  "metadata": {
    "colab": {
      "name": "NCF.ipynb",
      "provenance": [],
      "collapsed_sections": [],
      "authorship_tag": "ABX9TyOrqm5aPk2gyHgCt2xkEMpJ",
      "include_colab_link": true
    },
    "kernelspec": {
      "name": "python3",
      "display_name": "Python 3"
    },
    "language_info": {
      "name": "python"
    }
  },
  "cells": [
    {
      "cell_type": "markdown",
      "metadata": {
        "id": "view-in-github",
        "colab_type": "text"
      },
      "source": [
        "<a href=\"https://colab.research.google.com/github/hunny1123/KorenCollaborativeFiltering2008/blob/master/NCF.ipynb\" target=\"_parent\"><img src=\"https://colab.research.google.com/assets/colab-badge.svg\" alt=\"Open In Colab\"/></a>"
      ]
    },
    {
      "cell_type": "code",
      "execution_count": 63,
      "metadata": {
        "colab": {
          "base_uri": "https://localhost:8080/"
        },
        "id": "SGaN-exX4dgI",
        "outputId": "1859bbdf-012e-42aa-b9e1-1fdb128be4d5"
      },
      "outputs": [
        {
          "output_type": "stream",
          "name": "stdout",
          "text": [
            "  % Total    % Received % Xferd  Average Speed   Time    Time     Time  Current\n",
            "                                 Dload  Upload   Total   Spent    Left  Speed\n",
            "100 4808k  100 4808k    0     0   9.8M      0 --:--:-- --:--:-- --:--:--  9.9M\n",
            "Archive:  ml-100k.zip\n",
            "replace ml-100k/allbut.pl? [y]es, [n]o, [A]ll, [N]one, [r]ename: A\n",
            "  inflating: ml-100k/allbut.pl       \n",
            "  inflating: ml-100k/mku.sh          \n",
            "  inflating: ml-100k/README          \n",
            "  inflating: ml-100k/u.data          \n",
            "  inflating: ml-100k/u.genre         \n",
            "  inflating: ml-100k/u.info          \n",
            "  inflating: ml-100k/u.item          \n",
            "  inflating: ml-100k/u.occupation    \n",
            "  inflating: ml-100k/u.user          \n",
            "  inflating: ml-100k/u1.base         \n",
            "  inflating: ml-100k/u1.test         \n",
            "  inflating: ml-100k/u2.base         \n",
            "  inflating: ml-100k/u2.test         \n",
            "  inflating: ml-100k/u3.base         \n",
            "  inflating: ml-100k/u3.test         \n",
            "  inflating: ml-100k/u4.base         \n",
            "  inflating: ml-100k/u4.test         \n",
            "  inflating: ml-100k/u5.base         \n",
            "  inflating: ml-100k/u5.test         \n",
            "  inflating: ml-100k/ua.base         \n",
            "  inflating: ml-100k/ua.test         \n",
            "  inflating: ml-100k/ub.base         \n",
            "  inflating: ml-100k/ub.test         \n"
          ]
        }
      ],
      "source": [
        "!curl -O 'http://files.grouplens.org/datasets/movielens/ml-100k.zip'\n",
        "!unzip ml-100k.zip\n",
        "!mkdir -p data\n",
        "\n",
        "!cp ml-100k/u.data data/"
      ]
    },
    {
      "cell_type": "code",
      "source": [
        "import pandas as pd\n",
        "import numpy as np"
      ],
      "metadata": {
        "id": "_UfKE-Ll4nHx"
      },
      "execution_count": 64,
      "outputs": []
    },
    {
      "cell_type": "code",
      "source": [
        "import os\n",
        "os.getcwd()"
      ],
      "metadata": {
        "colab": {
          "base_uri": "https://localhost:8080/",
          "height": 35
        },
        "id": "xJb_rk_h4tD5",
        "outputId": "0a14d46d-4819-4da1-f7ef-66808b0d3d9f"
      },
      "execution_count": 65,
      "outputs": [
        {
          "output_type": "execute_result",
          "data": {
            "text/plain": [
              "'/content'"
            ],
            "application/vnd.google.colaboratory.intrinsic+json": {
              "type": "string"
            }
          },
          "metadata": {},
          "execution_count": 65
        }
      ]
    },
    {
      "cell_type": "code",
      "source": [
        "input_file = 'data/u.data'\n",
        "headers = ['user_id', 'item_id', 'rating', 'timestamp']\n",
        "header_row = None\n",
        "ratings_df = pd.read_csv(input_file,\n",
        "                         sep='\\t',\n",
        "                         names=headers,\n",
        "                         header=header_row,\n",
        "                         dtype={\n",
        "                           'user_id': np.int32,\n",
        "                           'item_id': np.int32,\n",
        "                           'rating': np.float32,\n",
        "                           'timestamp': np.int32,\n",
        "                         })"
      ],
      "metadata": {
        "id": "edYhtCag9kgm"
      },
      "execution_count": 66,
      "outputs": []
    },
    {
      "cell_type": "code",
      "source": [
        "ratings_df.head()"
      ],
      "metadata": {
        "id": "YPCa9RYr9lHq",
        "colab": {
          "base_uri": "https://localhost:8080/",
          "height": 206
        },
        "outputId": "11b74ab2-b07a-44f5-a49c-84ecdc31e4a5"
      },
      "execution_count": 67,
      "outputs": [
        {
          "output_type": "execute_result",
          "data": {
            "text/plain": [
              "   user_id  item_id  rating  timestamp\n",
              "0      196      242     3.0  881250949\n",
              "1      186      302     3.0  891717742\n",
              "2       22      377     1.0  878887116\n",
              "3      244       51     2.0  880606923\n",
              "4      166      346     1.0  886397596"
            ],
            "text/html": [
              "\n",
              "  <div id=\"df-bb096dc5-1ad8-446f-ac14-607dea23f23a\">\n",
              "    <div class=\"colab-df-container\">\n",
              "      <div>\n",
              "<style scoped>\n",
              "    .dataframe tbody tr th:only-of-type {\n",
              "        vertical-align: middle;\n",
              "    }\n",
              "\n",
              "    .dataframe tbody tr th {\n",
              "        vertical-align: top;\n",
              "    }\n",
              "\n",
              "    .dataframe thead th {\n",
              "        text-align: right;\n",
              "    }\n",
              "</style>\n",
              "<table border=\"1\" class=\"dataframe\">\n",
              "  <thead>\n",
              "    <tr style=\"text-align: right;\">\n",
              "      <th></th>\n",
              "      <th>user_id</th>\n",
              "      <th>item_id</th>\n",
              "      <th>rating</th>\n",
              "      <th>timestamp</th>\n",
              "    </tr>\n",
              "  </thead>\n",
              "  <tbody>\n",
              "    <tr>\n",
              "      <th>0</th>\n",
              "      <td>196</td>\n",
              "      <td>242</td>\n",
              "      <td>3.0</td>\n",
              "      <td>881250949</td>\n",
              "    </tr>\n",
              "    <tr>\n",
              "      <th>1</th>\n",
              "      <td>186</td>\n",
              "      <td>302</td>\n",
              "      <td>3.0</td>\n",
              "      <td>891717742</td>\n",
              "    </tr>\n",
              "    <tr>\n",
              "      <th>2</th>\n",
              "      <td>22</td>\n",
              "      <td>377</td>\n",
              "      <td>1.0</td>\n",
              "      <td>878887116</td>\n",
              "    </tr>\n",
              "    <tr>\n",
              "      <th>3</th>\n",
              "      <td>244</td>\n",
              "      <td>51</td>\n",
              "      <td>2.0</td>\n",
              "      <td>880606923</td>\n",
              "    </tr>\n",
              "    <tr>\n",
              "      <th>4</th>\n",
              "      <td>166</td>\n",
              "      <td>346</td>\n",
              "      <td>1.0</td>\n",
              "      <td>886397596</td>\n",
              "    </tr>\n",
              "  </tbody>\n",
              "</table>\n",
              "</div>\n",
              "      <button class=\"colab-df-convert\" onclick=\"convertToInteractive('df-bb096dc5-1ad8-446f-ac14-607dea23f23a')\"\n",
              "              title=\"Convert this dataframe to an interactive table.\"\n",
              "              style=\"display:none;\">\n",
              "        \n",
              "  <svg xmlns=\"http://www.w3.org/2000/svg\" height=\"24px\"viewBox=\"0 0 24 24\"\n",
              "       width=\"24px\">\n",
              "    <path d=\"M0 0h24v24H0V0z\" fill=\"none\"/>\n",
              "    <path d=\"M18.56 5.44l.94 2.06.94-2.06 2.06-.94-2.06-.94-.94-2.06-.94 2.06-2.06.94zm-11 1L8.5 8.5l.94-2.06 2.06-.94-2.06-.94L8.5 2.5l-.94 2.06-2.06.94zm10 10l.94 2.06.94-2.06 2.06-.94-2.06-.94-.94-2.06-.94 2.06-2.06.94z\"/><path d=\"M17.41 7.96l-1.37-1.37c-.4-.4-.92-.59-1.43-.59-.52 0-1.04.2-1.43.59L10.3 9.45l-7.72 7.72c-.78.78-.78 2.05 0 2.83L4 21.41c.39.39.9.59 1.41.59.51 0 1.02-.2 1.41-.59l7.78-7.78 2.81-2.81c.8-.78.8-2.07 0-2.86zM5.41 20L4 18.59l7.72-7.72 1.47 1.35L5.41 20z\"/>\n",
              "  </svg>\n",
              "      </button>\n",
              "      \n",
              "  <style>\n",
              "    .colab-df-container {\n",
              "      display:flex;\n",
              "      flex-wrap:wrap;\n",
              "      gap: 12px;\n",
              "    }\n",
              "\n",
              "    .colab-df-convert {\n",
              "      background-color: #E8F0FE;\n",
              "      border: none;\n",
              "      border-radius: 50%;\n",
              "      cursor: pointer;\n",
              "      display: none;\n",
              "      fill: #1967D2;\n",
              "      height: 32px;\n",
              "      padding: 0 0 0 0;\n",
              "      width: 32px;\n",
              "    }\n",
              "\n",
              "    .colab-df-convert:hover {\n",
              "      background-color: #E2EBFA;\n",
              "      box-shadow: 0px 1px 2px rgba(60, 64, 67, 0.3), 0px 1px 3px 1px rgba(60, 64, 67, 0.15);\n",
              "      fill: #174EA6;\n",
              "    }\n",
              "\n",
              "    [theme=dark] .colab-df-convert {\n",
              "      background-color: #3B4455;\n",
              "      fill: #D2E3FC;\n",
              "    }\n",
              "\n",
              "    [theme=dark] .colab-df-convert:hover {\n",
              "      background-color: #434B5C;\n",
              "      box-shadow: 0px 1px 3px 1px rgba(0, 0, 0, 0.15);\n",
              "      filter: drop-shadow(0px 1px 2px rgba(0, 0, 0, 0.3));\n",
              "      fill: #FFFFFF;\n",
              "    }\n",
              "  </style>\n",
              "\n",
              "      <script>\n",
              "        const buttonEl =\n",
              "          document.querySelector('#df-bb096dc5-1ad8-446f-ac14-607dea23f23a button.colab-df-convert');\n",
              "        buttonEl.style.display =\n",
              "          google.colab.kernel.accessAllowed ? 'block' : 'none';\n",
              "\n",
              "        async function convertToInteractive(key) {\n",
              "          const element = document.querySelector('#df-bb096dc5-1ad8-446f-ac14-607dea23f23a');\n",
              "          const dataTable =\n",
              "            await google.colab.kernel.invokeFunction('convertToInteractive',\n",
              "                                                     [key], {});\n",
              "          if (!dataTable) return;\n",
              "\n",
              "          const docLinkHtml = 'Like what you see? Visit the ' +\n",
              "            '<a target=\"_blank\" href=https://colab.research.google.com/notebooks/data_table.ipynb>data table notebook</a>'\n",
              "            + ' to learn more about interactive tables.';\n",
              "          element.innerHTML = '';\n",
              "          dataTable['output_type'] = 'display_data';\n",
              "          await google.colab.output.renderOutput(dataTable, element);\n",
              "          const docLink = document.createElement('div');\n",
              "          docLink.innerHTML = docLinkHtml;\n",
              "          element.appendChild(docLink);\n",
              "        }\n",
              "      </script>\n",
              "    </div>\n",
              "  </div>\n",
              "  "
            ]
          },
          "metadata": {},
          "execution_count": 67
        }
      ]
    },
    {
      "cell_type": "code",
      "source": [
        "from sklearn.preprocessing import LabelEncoder, MinMaxScaler"
      ],
      "metadata": {
        "id": "hgfri-v59mRG"
      },
      "execution_count": 68,
      "outputs": []
    },
    {
      "cell_type": "code",
      "source": [
        "user_enc = LabelEncoder()\n",
        "product_enc = LabelEncoder()\n",
        "scaler = MinMaxScaler()\n",
        "\n",
        "ratings_df['user_id'] = user_enc.fit_transform(ratings_df['user_id'].values)\n",
        "ratings_df['item_id'] = product_enc.fit_transform(ratings_df['item_id'].values)\n",
        "ratings_df['rating'] = scaler.fit_transform(ratings_df['rating'].values.reshape(-1, 1))"
      ],
      "metadata": {
        "id": "BqwbOVB-9nrB"
      },
      "execution_count": 69,
      "outputs": []
    },
    {
      "cell_type": "code",
      "source": [
        "ratings_df.head()"
      ],
      "metadata": {
        "id": "MrefGzKn9pI2",
        "colab": {
          "base_uri": "https://localhost:8080/",
          "height": 206
        },
        "outputId": "1bda1ea7-d0d0-46b5-b466-f57ceef391d7"
      },
      "execution_count": 70,
      "outputs": [
        {
          "output_type": "execute_result",
          "data": {
            "text/plain": [
              "   user_id  item_id  rating  timestamp\n",
              "0      195      241    0.50  881250949\n",
              "1      185      301    0.50  891717742\n",
              "2       21      376    0.00  878887116\n",
              "3      243       50    0.25  880606923\n",
              "4      165      345    0.00  886397596"
            ],
            "text/html": [
              "\n",
              "  <div id=\"df-185ed1cd-f134-4621-95f2-3ad86450d142\">\n",
              "    <div class=\"colab-df-container\">\n",
              "      <div>\n",
              "<style scoped>\n",
              "    .dataframe tbody tr th:only-of-type {\n",
              "        vertical-align: middle;\n",
              "    }\n",
              "\n",
              "    .dataframe tbody tr th {\n",
              "        vertical-align: top;\n",
              "    }\n",
              "\n",
              "    .dataframe thead th {\n",
              "        text-align: right;\n",
              "    }\n",
              "</style>\n",
              "<table border=\"1\" class=\"dataframe\">\n",
              "  <thead>\n",
              "    <tr style=\"text-align: right;\">\n",
              "      <th></th>\n",
              "      <th>user_id</th>\n",
              "      <th>item_id</th>\n",
              "      <th>rating</th>\n",
              "      <th>timestamp</th>\n",
              "    </tr>\n",
              "  </thead>\n",
              "  <tbody>\n",
              "    <tr>\n",
              "      <th>0</th>\n",
              "      <td>195</td>\n",
              "      <td>241</td>\n",
              "      <td>0.50</td>\n",
              "      <td>881250949</td>\n",
              "    </tr>\n",
              "    <tr>\n",
              "      <th>1</th>\n",
              "      <td>185</td>\n",
              "      <td>301</td>\n",
              "      <td>0.50</td>\n",
              "      <td>891717742</td>\n",
              "    </tr>\n",
              "    <tr>\n",
              "      <th>2</th>\n",
              "      <td>21</td>\n",
              "      <td>376</td>\n",
              "      <td>0.00</td>\n",
              "      <td>878887116</td>\n",
              "    </tr>\n",
              "    <tr>\n",
              "      <th>3</th>\n",
              "      <td>243</td>\n",
              "      <td>50</td>\n",
              "      <td>0.25</td>\n",
              "      <td>880606923</td>\n",
              "    </tr>\n",
              "    <tr>\n",
              "      <th>4</th>\n",
              "      <td>165</td>\n",
              "      <td>345</td>\n",
              "      <td>0.00</td>\n",
              "      <td>886397596</td>\n",
              "    </tr>\n",
              "  </tbody>\n",
              "</table>\n",
              "</div>\n",
              "      <button class=\"colab-df-convert\" onclick=\"convertToInteractive('df-185ed1cd-f134-4621-95f2-3ad86450d142')\"\n",
              "              title=\"Convert this dataframe to an interactive table.\"\n",
              "              style=\"display:none;\">\n",
              "        \n",
              "  <svg xmlns=\"http://www.w3.org/2000/svg\" height=\"24px\"viewBox=\"0 0 24 24\"\n",
              "       width=\"24px\">\n",
              "    <path d=\"M0 0h24v24H0V0z\" fill=\"none\"/>\n",
              "    <path d=\"M18.56 5.44l.94 2.06.94-2.06 2.06-.94-2.06-.94-.94-2.06-.94 2.06-2.06.94zm-11 1L8.5 8.5l.94-2.06 2.06-.94-2.06-.94L8.5 2.5l-.94 2.06-2.06.94zm10 10l.94 2.06.94-2.06 2.06-.94-2.06-.94-.94-2.06-.94 2.06-2.06.94z\"/><path d=\"M17.41 7.96l-1.37-1.37c-.4-.4-.92-.59-1.43-.59-.52 0-1.04.2-1.43.59L10.3 9.45l-7.72 7.72c-.78.78-.78 2.05 0 2.83L4 21.41c.39.39.9.59 1.41.59.51 0 1.02-.2 1.41-.59l7.78-7.78 2.81-2.81c.8-.78.8-2.07 0-2.86zM5.41 20L4 18.59l7.72-7.72 1.47 1.35L5.41 20z\"/>\n",
              "  </svg>\n",
              "      </button>\n",
              "      \n",
              "  <style>\n",
              "    .colab-df-container {\n",
              "      display:flex;\n",
              "      flex-wrap:wrap;\n",
              "      gap: 12px;\n",
              "    }\n",
              "\n",
              "    .colab-df-convert {\n",
              "      background-color: #E8F0FE;\n",
              "      border: none;\n",
              "      border-radius: 50%;\n",
              "      cursor: pointer;\n",
              "      display: none;\n",
              "      fill: #1967D2;\n",
              "      height: 32px;\n",
              "      padding: 0 0 0 0;\n",
              "      width: 32px;\n",
              "    }\n",
              "\n",
              "    .colab-df-convert:hover {\n",
              "      background-color: #E2EBFA;\n",
              "      box-shadow: 0px 1px 2px rgba(60, 64, 67, 0.3), 0px 1px 3px 1px rgba(60, 64, 67, 0.15);\n",
              "      fill: #174EA6;\n",
              "    }\n",
              "\n",
              "    [theme=dark] .colab-df-convert {\n",
              "      background-color: #3B4455;\n",
              "      fill: #D2E3FC;\n",
              "    }\n",
              "\n",
              "    [theme=dark] .colab-df-convert:hover {\n",
              "      background-color: #434B5C;\n",
              "      box-shadow: 0px 1px 3px 1px rgba(0, 0, 0, 0.15);\n",
              "      filter: drop-shadow(0px 1px 2px rgba(0, 0, 0, 0.3));\n",
              "      fill: #FFFFFF;\n",
              "    }\n",
              "  </style>\n",
              "\n",
              "      <script>\n",
              "        const buttonEl =\n",
              "          document.querySelector('#df-185ed1cd-f134-4621-95f2-3ad86450d142 button.colab-df-convert');\n",
              "        buttonEl.style.display =\n",
              "          google.colab.kernel.accessAllowed ? 'block' : 'none';\n",
              "\n",
              "        async function convertToInteractive(key) {\n",
              "          const element = document.querySelector('#df-185ed1cd-f134-4621-95f2-3ad86450d142');\n",
              "          const dataTable =\n",
              "            await google.colab.kernel.invokeFunction('convertToInteractive',\n",
              "                                                     [key], {});\n",
              "          if (!dataTable) return;\n",
              "\n",
              "          const docLinkHtml = 'Like what you see? Visit the ' +\n",
              "            '<a target=\"_blank\" href=https://colab.research.google.com/notebooks/data_table.ipynb>data table notebook</a>'\n",
              "            + ' to learn more about interactive tables.';\n",
              "          element.innerHTML = '';\n",
              "          dataTable['output_type'] = 'display_data';\n",
              "          await google.colab.output.renderOutput(dataTable, element);\n",
              "          const docLink = document.createElement('div');\n",
              "          docLink.innerHTML = docLinkHtml;\n",
              "          element.appendChild(docLink);\n",
              "        }\n",
              "      </script>\n",
              "    </div>\n",
              "  </div>\n",
              "  "
            ]
          },
          "metadata": {},
          "execution_count": 70
        }
      ]
    },
    {
      "cell_type": "code",
      "source": [
        "n_users = len(ratings_df['user_id'].unique())\n",
        "n_items = len(ratings_df['item_id'].unique())"
      ],
      "metadata": {
        "id": "K25ouc2P9raM"
      },
      "execution_count": 71,
      "outputs": []
    },
    {
      "cell_type": "code",
      "source": [
        "print('number of unique user {}'.format(n_users))\n",
        "print('number of unique movie {}'.format(n_items))"
      ],
      "metadata": {
        "id": "l43lc4x09w3y",
        "colab": {
          "base_uri": "https://localhost:8080/"
        },
        "outputId": "24b2a56d-3fe2-4521-c3e1-cb89a96e06b2"
      },
      "execution_count": 72,
      "outputs": [
        {
          "output_type": "stream",
          "name": "stdout",
          "text": [
            "number of unique user 943\n",
            "number of unique movie 1682\n"
          ]
        }
      ]
    },
    {
      "cell_type": "code",
      "source": [
        "ratings_df['user_id'].min() # make sure index start from 0"
      ],
      "metadata": {
        "id": "v_EiGdO290JP",
        "colab": {
          "base_uri": "https://localhost:8080/"
        },
        "outputId": "1c1e66cf-a3c4-4257-fa82-21c7c6d9a534"
      },
      "execution_count": 73,
      "outputs": [
        {
          "output_type": "execute_result",
          "data": {
            "text/plain": [
              "0"
            ]
          },
          "metadata": {},
          "execution_count": 73
        }
      ]
    },
    {
      "cell_type": "code",
      "source": [
        "ratings = ratings_df[['user_id','item_id','rating']].to_numpy()"
      ],
      "metadata": {
        "id": "OCv5LYNr91-d"
      },
      "execution_count": 74,
      "outputs": []
    },
    {
      "cell_type": "code",
      "source": [
        "from sklearn.model_selection import train_test_split\n",
        "\n",
        "tr_ratings, ts_ratings = train_test_split(ratings, test_size = 0.1)\n",
        "X_train = [[tr_ratings[:,0],tr_ratings[:,1]]]\n",
        "y_train = tr_ratings[:,2].reshape(-1,1)\n",
        "\n",
        "X_test = [[ts_ratings[:,0],ts_ratings[:,1]]]\n",
        "y_test = ts_ratings[:,2].reshape(-1,1)"
      ],
      "metadata": {
        "id": "ZDkVJHtL92dO"
      },
      "execution_count": 75,
      "outputs": []
    },
    {
      "cell_type": "code",
      "source": [
        "import tensorflow as tf\n",
        "print(tf.__version__)"
      ],
      "metadata": {
        "id": "0VYUImL094JO",
        "colab": {
          "base_uri": "https://localhost:8080/"
        },
        "outputId": "78cbe026-1075-4fa3-c3ba-5fd014462f3b"
      },
      "execution_count": 76,
      "outputs": [
        {
          "output_type": "stream",
          "name": "stdout",
          "text": [
            "2.8.2\n"
          ]
        }
      ]
    },
    {
      "cell_type": "code",
      "source": [
        "def build_GMF(embedding_dim, n_users, n_items):\n",
        "  # Input layers\n",
        "  user_input = tf.keras.layers.Input(shape=(1,)) # user\n",
        "  product_input = tf.keras.layers.Input(shape=(1,)) # movie\n",
        "  # Embedding layers\n",
        "  User_embedding = tf.keras.layers.Embedding(n_users, embedding_dim,embeddings_regularizer=tf.keras.regularizers.l2(1e-6))(user_input)\n",
        "  Product_embedding = tf.keras.layers.Embedding(n_items, embedding_dim, embeddings_regularizer=tf.keras.regularizers.l2(1e-6))(product_input)\n",
        "  # Dot products\n",
        "  u = tf.keras.layers.Reshape((embedding_dim,))(User_embedding)\n",
        "  v = tf.keras.layers.Reshape((embedding_dim,))(Product_embedding)\n",
        "  s = tf.keras.layers.Dot(axes=1)([u, v])\n",
        "  model = tf.keras.Model(inputs=[user_input, product_input], outputs=s)\n",
        "  print(model.summary())\n",
        "  return(model)"
      ],
      "metadata": {
        "id": "_kJgnkRn96wk"
      },
      "execution_count": 77,
      "outputs": []
    },
    {
      "cell_type": "code",
      "source": [
        "embedding_dim = 10\n",
        "GMF_model = build_GMF(embedding_dim, n_users, n_items)"
      ],
      "metadata": {
        "id": "i67P0I9498SH",
        "colab": {
          "base_uri": "https://localhost:8080/"
        },
        "outputId": "d5dfe024-5611-4581-b8c5-8b60368663c6"
      },
      "execution_count": 78,
      "outputs": [
        {
          "output_type": "stream",
          "name": "stdout",
          "text": [
            "Model: \"model_7\"\n",
            "__________________________________________________________________________________________________\n",
            " Layer (type)                   Output Shape         Param #     Connected to                     \n",
            "==================================================================================================\n",
            " input_15 (InputLayer)          [(None, 1)]          0           []                               \n",
            "                                                                                                  \n",
            " input_16 (InputLayer)          [(None, 1)]          0           []                               \n",
            "                                                                                                  \n",
            " embedding_18 (Embedding)       (None, 1, 10)        9430        ['input_15[0][0]']               \n",
            "                                                                                                  \n",
            " embedding_19 (Embedding)       (None, 1, 10)        16820       ['input_16[0][0]']               \n",
            "                                                                                                  \n",
            " reshape_10 (Reshape)           (None, 10)           0           ['embedding_18[0][0]']           \n",
            "                                                                                                  \n",
            " reshape_11 (Reshape)           (None, 10)           0           ['embedding_19[0][0]']           \n",
            "                                                                                                  \n",
            " dot_6 (Dot)                    (None, 1)            0           ['reshape_10[0][0]',             \n",
            "                                                                  'reshape_11[0][0]']             \n",
            "                                                                                                  \n",
            "==================================================================================================\n",
            "Total params: 26,250\n",
            "Trainable params: 26,250\n",
            "Non-trainable params: 0\n",
            "__________________________________________________________________________________________________\n",
            "None\n"
          ]
        }
      ]
    },
    {
      "cell_type": "code",
      "source": [
        "# Directory where the checkpoints will be saved\n",
        "checkpoint_dir = './training_checkpoints'\n",
        "# Name of the checkpoint files\n",
        "checkpoint_prefix = os.path.join(checkpoint_dir, \"ckpt_{epoch}\")\n",
        "\n",
        "checkpoint_callback=tf.keras.callbacks.ModelCheckpoint(\n",
        "    filepath=checkpoint_prefix,\n",
        "    save_weights_only=True)\n",
        "\n",
        "es = tf.keras.callbacks.EarlyStopping(monitor='val_loss', mode='min', verbose=1, patience=10)"
      ],
      "metadata": {
        "id": "zvcYysRb9-8K"
      },
      "execution_count": 79,
      "outputs": []
    },
    {
      "cell_type": "code",
      "source": [
        "opt = tf.keras.optimizers.Adagrad(learning_rate=0.5)  #Use Adagrad to get faster learning rate\n",
        "# opt = tf.keras.optimizers.Adam(learning_rate=0.01)  \n",
        "\n",
        "GMF_model.compile(loss='mean_squared_error', optimizer=opt)\n",
        "\n",
        "history = GMF_model.fit(x=X_train, y=y_train,\n",
        "                  batch_size=64, epochs=10,\n",
        "                  validation_data= (X_test, y_test),\n",
        "                  callbacks=[checkpoint_callback, es])"
      ],
      "metadata": {
        "id": "7VFqtKR3-AwW",
        "colab": {
          "base_uri": "https://localhost:8080/"
        },
        "outputId": "a103b1ef-1d85-447b-a71d-7d0318ad0a68"
      },
      "execution_count": 80,
      "outputs": [
        {
          "output_type": "stream",
          "name": "stdout",
          "text": [
            "Epoch 1/10\n",
            "1407/1407 [==============================] - 3s 2ms/step - loss: 0.4559 - val_loss: 0.3056\n",
            "Epoch 2/10\n",
            "1407/1407 [==============================] - 3s 2ms/step - loss: 0.1373 - val_loss: 0.0837\n",
            "Epoch 3/10\n",
            "1407/1407 [==============================] - 3s 2ms/step - loss: 0.0695 - val_loss: 0.0672\n",
            "Epoch 4/10\n",
            "1407/1407 [==============================] - 2s 2ms/step - loss: 0.0610 - val_loss: 0.0630\n",
            "Epoch 5/10\n",
            "1407/1407 [==============================] - 2s 2ms/step - loss: 0.0578 - val_loss: 0.0607\n",
            "Epoch 6/10\n",
            "1407/1407 [==============================] - 2s 2ms/step - loss: 0.0557 - val_loss: 0.0593\n",
            "Epoch 7/10\n",
            "1407/1407 [==============================] - 3s 2ms/step - loss: 0.0538 - val_loss: 0.0582\n",
            "Epoch 8/10\n",
            "1407/1407 [==============================] - 2s 2ms/step - loss: 0.0520 - val_loss: 0.0576\n",
            "Epoch 9/10\n",
            "1407/1407 [==============================] - 2s 2ms/step - loss: 0.0503 - val_loss: 0.0569\n",
            "Epoch 10/10\n",
            "1407/1407 [==============================] - 2s 2ms/step - loss: 0.0487 - val_loss: 0.0567\n"
          ]
        }
      ]
    },
    {
      "cell_type": "code",
      "source": [
        "import matplotlib.pyplot as plt\n",
        "\n",
        "def plot_graph(history, string):\n",
        "    plt.plot(history.history[string])\n",
        "    plt.plot(history.history['val_'+string])\n",
        "    plt.xlabel(\"Epochs\")\n",
        "    plt.ylabel(string)\n",
        "    plt.legend([string, 'val_'+string])\n",
        "    plt.show()"
      ],
      "metadata": {
        "id": "hxvxKOb0-CDk"
      },
      "execution_count": 81,
      "outputs": []
    },
    {
      "cell_type": "code",
      "source": [
        "plot_graph(history, \"loss\")"
      ],
      "metadata": {
        "id": "uCJ_Ovov-ECx",
        "colab": {
          "base_uri": "https://localhost:8080/",
          "height": 279
        },
        "outputId": "07d3732b-bc70-4bd4-9fe5-f90b38e67eb6"
      },
      "execution_count": 82,
      "outputs": [
        {
          "output_type": "display_data",
          "data": {
            "text/plain": [
              "<Figure size 432x288 with 1 Axes>"
            ],
            "image/png": "[encoded data removed]"
          },
          "metadata": {
            "needs_background": "light"
          }
        }
      ]
    },
    {
      "cell_type": "code",
      "source": [
        "recovered_model = build_GMF(embedding_dim, n_users, n_items)\n",
        "recovered_model.load_weights(tf.train.latest_checkpoint(checkpoint_dir))\n",
        "recovered_model.build(tf.TensorShape([1, None]))"
      ],
      "metadata": {
        "id": "fuR6SDXN-Fjq",
        "colab": {
          "base_uri": "https://localhost:8080/"
        },
        "outputId": "ae1e441e-4746-4cba-ed56-767b829db089"
      },
      "execution_count": 83,
      "outputs": [
        {
          "output_type": "stream",
          "name": "stdout",
          "text": [
            "Model: \"model_8\"\n",
            "__________________________________________________________________________________________________\n",
            " Layer (type)                   Output Shape         Param #     Connected to                     \n",
            "==================================================================================================\n",
            " input_17 (InputLayer)          [(None, 1)]          0           []                               \n",
            "                                                                                                  \n",
            " input_18 (InputLayer)          [(None, 1)]          0           []                               \n",
            "                                                                                                  \n",
            " embedding_20 (Embedding)       (None, 1, 10)        9430        ['input_17[0][0]']               \n",
            "                                                                                                  \n",
            " embedding_21 (Embedding)       (None, 1, 10)        16820       ['input_18[0][0]']               \n",
            "                                                                                                  \n",
            " reshape_12 (Reshape)           (None, 10)           0           ['embedding_20[0][0]']           \n",
            "                                                                                                  \n",
            " reshape_13 (Reshape)           (None, 10)           0           ['embedding_21[0][0]']           \n",
            "                                                                                                  \n",
            " dot_7 (Dot)                    (None, 1)            0           ['reshape_12[0][0]',             \n",
            "                                                                  'reshape_13[0][0]']             \n",
            "                                                                                                  \n",
            "==================================================================================================\n",
            "Total params: 26,250\n",
            "Trainable params: 26,250\n",
            "Non-trainable params: 0\n",
            "__________________________________________________________________________________________________\n",
            "None\n",
            "WARNING:tensorflow:Detecting that an object or model or tf.train.Checkpoint is being deleted with unrestored values. See the following logs for the specific values in question. To silence these warnings, use `status.expect_partial()`. See https://www.tensorflow.org/api_docs/python/tf/train/Checkpoint#restorefor details about the status object returned by the restore function.\n",
            "WARNING:tensorflow:Value in checkpoint could not be found in the restored object: (root).optimizer.iter\n",
            "WARNING:tensorflow:Value in checkpoint could not be found in the restored object: (root).optimizer.decay\n",
            "WARNING:tensorflow:Value in checkpoint could not be found in the restored object: (root).optimizer.learning_rate\n",
            "WARNING:tensorflow:Value in checkpoint could not be found in the restored object: (root).optimizer's state 'accumulator' for (root).layer_with_weights-0.embeddings\n"
          ]
        }
      ]
    },
    {
      "cell_type": "code",
      "source": [
        "prediction = recovered_model(X_test)"
      ],
      "metadata": {
        "colab": {
          "base_uri": "https://localhost:8080/"
        },
        "id": "ATd92etz-7D0",
        "outputId": "9c0428e7-7767-494a-f4d1-12a0f358225d"
      },
      "execution_count": 84,
      "outputs": [
        {
          "output_type": "stream",
          "name": "stdout",
          "text": [
            "WARNING:tensorflow:Value in checkpoint could not be found in the restored object: (root).optimizer's state 'accumulator' for (root).layer_with_weights-1.embeddings\n",
            "WARNING:tensorflow:Value in checkpoint could not be found in the restored object: (root).optimizer's state 'accumulator' for (root).layer_with_weights-2.kernel\n",
            "WARNING:tensorflow:Value in checkpoint could not be found in the restored object: (root).optimizer's state 'accumulator' for (root).layer_with_weights-2.bias\n",
            "WARNING:tensorflow:Value in checkpoint could not be found in the restored object: (root).optimizer's state 'accumulator' for (root).layer_with_weights-3.kernel\n",
            "WARNING:tensorflow:Value in checkpoint could not be found in the restored object: (root).optimizer's state 'accumulator' for (root).layer_with_weights-3.bias\n",
            "WARNING:tensorflow:Value in checkpoint could not be found in the restored object: (root).optimizer's state 'accumulator' for (root).layer_with_weights-4.embeddings\n",
            "WARNING:tensorflow:Value in checkpoint could not be found in the restored object: (root).optimizer's state 'accumulator' for (root).layer_with_weights-5.embeddings\n",
            "WARNING:tensorflow:Value in checkpoint could not be found in the restored object: (root).optimizer's state 'accumulator' for (root).layer_with_weights-6.kernel\n",
            "WARNING:tensorflow:Value in checkpoint could not be found in the restored object: (root).optimizer's state 'accumulator' for (root).layer_with_weights-6.bias\n",
            "WARNING:tensorflow:Value in checkpoint could not be found in the restored object: (root).optimizer's state 'accumulator' for (root).layer_with_weights-7.kernel\n",
            "WARNING:tensorflow:Value in checkpoint could not be found in the restored object: (root).optimizer's state 'accumulator' for (root).layer_with_weights-7.bias\n",
            "WARNING:tensorflow:Value in checkpoint could not be found in the restored object: (root).optimizer's state 'accumulator' for (root).layer_with_weights-8.kernel\n",
            "WARNING:tensorflow:Value in checkpoint could not be found in the restored object: (root).optimizer's state 'accumulator' for (root).layer_with_weights-8.bias\n"
          ]
        }
      ]
    },
    {
      "cell_type": "code",
      "source": [
        "plt.plot(y_test,prediction,'o')\n",
        "plt.xlim(-0.5, 1.5)\n",
        "plt.ylim(-0.5, 1.5)\n",
        "plt.gca().set_aspect('equal', adjustable='box')"
      ],
      "metadata": {
        "colab": {
          "base_uri": "https://localhost:8080/",
          "height": 269
        },
        "id": "XrfPWWLZ-8Qj",
        "outputId": "fb2e41b0-e705-4b96-9094-1d9292cd335b"
      },
      "execution_count": 85,
      "outputs": [
        {
          "output_type": "display_data",
          "data": {
            "text/plain": [
              "<Figure size 432x288 with 1 Axes>"
            ],
            "image/png": "[encoded data removed]"
          },
          "metadata": {
            "needs_background": "light"
          }
        }
      ]
    },
    {
      "cell_type": "code",
      "source": [
        "def build_bias(embedding_dim, n_users, n_items):\n",
        "    # Input layers\n",
        "    user_input = tf.keras.layers.Input(shape=(1,)) # user\n",
        "    product_input = tf.keras.layers.Input(shape=(1,)) # movie\n",
        "    # Embedding layers\n",
        "    User_embedding = tf.keras.layers.Embedding(n_users, embedding_dim,embeddings_regularizer=tf.keras.regularizers.l2(1e-6))(user_input)\n",
        "\n",
        "    User_embedding_avg = tf.keras.layers.Embedding(n_users, 1,embeddings_regularizer=tf.keras.regularizers.l2(1e-6))(user_input)\n",
        "\n",
        "\n",
        "    Product_embedding = tf.keras.layers.Embedding(n_items, embedding_dim,embeddings_regularizer=tf.keras.regularizers.l2(1e-6))(product_input)\n",
        "\n",
        "    Product_embedding_avg = tf.keras.layers.Embedding(n_items, 1,embeddings_regularizer=tf.keras.regularizers.l2(1e-6))(product_input)\n",
        "\n",
        "\n",
        "    # Dot products\n",
        "    u = tf.keras.layers.Reshape((embedding_dim,))(User_embedding)\n",
        "    v = tf.keras.layers.Reshape((embedding_dim,))(Product_embedding)\n",
        "    s = tf.keras.layers.Dot(axes=1)([u, v])\n",
        "\n",
        "    o = tf.keras.layers.Add()([s, User_embedding_avg, Product_embedding_avg])\n",
        "\n",
        "    model = tf.keras.Model(inputs=[user_input, product_input], outputs=o)\n",
        "    print(model.summary())\n",
        "    return(model)"
      ],
      "metadata": {
        "id": "5bbEmkEK_AUO"
      },
      "execution_count": 86,
      "outputs": []
    },
    {
      "cell_type": "code",
      "source": [
        "def build_MLP(embedding_dim, n_users, n_items):\n",
        "    # Input layers\n",
        "    user_input_mlp = tf.keras.layers.Input(shape=(1,)) # user\n",
        "    product_input_mlp = tf.keras.layers.Input(shape=(1,)) # movie\n",
        "    # Embedding layers\n",
        "    User_embedding_mlp = tf.keras.layers.Embedding(n_users, embedding_dim,\n",
        "                                                 embeddings_initializer= \"normal\",\n",
        "                                                  embeddings_regularizer=tf.keras.regularizers.l2(1e-6))(user_input_mlp)\n",
        "    Product_embedding_mlp = tf.keras.layers.Embedding(n_items, embedding_dim, \n",
        "                                                    embeddings_initializer= \"normal\",\n",
        "                                                    embeddings_regularizer=tf.keras.regularizers.l2(1e-6))(product_input_mlp)\n",
        "    # Concatenation of the two embedding\n",
        "    # u_mlp = tf.keras.layers.Flatten()(User_embedding_mlp)\n",
        "    # v_mlp = tf.keras.layers.Flatten()(Product_embedding_mlp)\n",
        "\n",
        "    u_mlp =tf.keras.layers.Reshape((embedding_dim,))(User_embedding_mlp)\n",
        "    v_mlp = tf.keras.layers.Reshape((embedding_dim,))(Product_embedding_mlp)\n",
        "\n",
        "    u_mlp = tf.keras.layers.Dropout(0.5)(u_mlp)\n",
        "    v_mlp = tf.keras.layers.Dropout(0.5)(v_mlp)\n",
        "\n",
        "    merged = tf.keras.layers.Concatenate(axis=1)([u_mlp, v_mlp])\n",
        "\n",
        "    fcn = tf.keras.layers.Dense(64, activation='relu',kernel_regularizer=tf.keras.regularizers.l2(1e-6),\n",
        "                              activity_regularizer = tf.keras.regularizers.l2(1e-6))(merged)\n",
        "\n",
        "    fcn = tf.keras.layers.Dense(32, activation='relu',kernel_regularizer=tf.keras.regularizers.l2(1e-6))(fcn)\n",
        "\n",
        "    fcn = tf.keras.layers.Dense(16, activation='relu', kernel_regularizer=tf.keras.regularizers.l2(1e-6))(fcn)\n",
        "    fcn = tf.keras.layers.Dense(8, activation='relu', kernel_regularizer=tf.keras.regularizers.l2(1e-6))(fcn)\n",
        "\n",
        "    output_mlp = tf.keras.layers.Dense(1, activation='sigmoid', kernel_initializer=\"lecun_uniform\")(fcn)\n",
        "\n",
        "    model = tf.keras.Model(inputs=[user_input_mlp, product_input_mlp], outputs=output_mlp)\n",
        "    print(model.summary())\n",
        "    return(model)"
      ],
      "metadata": {
        "id": "RR69BEa8-9jU"
      },
      "execution_count": 87,
      "outputs": []
    },
    {
      "cell_type": "code",
      "source": [
        "embedding_dim = 100\n",
        "MLP_model = build_MLP(embedding_dim, n_users, n_items)"
      ],
      "metadata": {
        "colab": {
          "base_uri": "https://localhost:8080/"
        },
        "id": "s0l1zWD-_DDE",
        "outputId": "f183f191-38d4-41ad-c73a-5c1aca993b4c"
      },
      "execution_count": 88,
      "outputs": [
        {
          "output_type": "stream",
          "name": "stdout",
          "text": [
            "Model: \"model_9\"\n",
            "__________________________________________________________________________________________________\n",
            " Layer (type)                   Output Shape         Param #     Connected to                     \n",
            "==================================================================================================\n",
            " input_19 (InputLayer)          [(None, 1)]          0           []                               \n",
            "                                                                                                  \n",
            " input_20 (InputLayer)          [(None, 1)]          0           []                               \n",
            "                                                                                                  \n",
            " embedding_22 (Embedding)       (None, 1, 100)       94300       ['input_19[0][0]']               \n",
            "                                                                                                  \n",
            " embedding_23 (Embedding)       (None, 1, 100)       168200      ['input_20[0][0]']               \n",
            "                                                                                                  \n",
            " reshape_14 (Reshape)           (None, 100)          0           ['embedding_22[0][0]']           \n",
            "                                                                                                  \n",
            " reshape_15 (Reshape)           (None, 100)          0           ['embedding_23[0][0]']           \n",
            "                                                                                                  \n",
            " dropout_6 (Dropout)            (None, 100)          0           ['reshape_14[0][0]']             \n",
            "                                                                                                  \n",
            " dropout_7 (Dropout)            (None, 100)          0           ['reshape_15[0][0]']             \n",
            "                                                                                                  \n",
            " concatenate_5 (Concatenate)    (None, 200)          0           ['dropout_6[0][0]',              \n",
            "                                                                  'dropout_7[0][0]']              \n",
            "                                                                                                  \n",
            " dense_15 (Dense)               (None, 64)           12864       ['concatenate_5[0][0]']          \n",
            "                                                                                                  \n",
            " dense_16 (Dense)               (None, 32)           2080        ['dense_15[0][0]']               \n",
            "                                                                                                  \n",
            " dense_17 (Dense)               (None, 16)           528         ['dense_16[0][0]']               \n",
            "                                                                                                  \n",
            " dense_18 (Dense)               (None, 8)            136         ['dense_17[0][0]']               \n",
            "                                                                                                  \n",
            " dense_19 (Dense)               (None, 1)            9           ['dense_18[0][0]']               \n",
            "                                                                                                  \n",
            "==================================================================================================\n",
            "Total params: 278,117\n",
            "Trainable params: 278,117\n",
            "Non-trainable params: 0\n",
            "__________________________________________________________________________________________________\n",
            "None\n"
          ]
        }
      ]
    },
    {
      "cell_type": "code",
      "source": [
        "# opt = tf.keras.optimizers.Adagrad(learning_rate=0.01)  #Use Adagrad to get faster learning rate\n",
        "opt = tf.keras.optimizers.Adam(learning_rate=0.001)  \n",
        "\n",
        "MLP_model.compile(loss='mean_squared_error', optimizer=opt)\n",
        "\n",
        "history = MLP_model.fit(x=X_train, y=y_train,\n",
        "                  batch_size=64, epochs=10,\n",
        "                  validation_data= (X_test, y_test),\n",
        "                  callbacks=[checkpoint_callback, es])"
      ],
      "metadata": {
        "colab": {
          "base_uri": "https://localhost:8080/"
        },
        "id": "fZZbFkgr_EeN",
        "outputId": "6f0e8f5e-9cb5-4fd0-81b2-ea6c7e477b97"
      },
      "execution_count": 89,
      "outputs": [
        {
          "output_type": "stream",
          "name": "stdout",
          "text": [
            "Epoch 1/10\n",
            "1407/1407 [==============================] - 9s 6ms/step - loss: 0.0625 - val_loss: 0.0583\n",
            "Epoch 2/10\n",
            "1407/1407 [==============================] - 7s 5ms/step - loss: 0.0560 - val_loss: 0.0569\n",
            "Epoch 3/10\n",
            "1407/1407 [==============================] - 7s 5ms/step - loss: 0.0548 - val_loss: 0.0567\n",
            "Epoch 4/10\n",
            "1407/1407 [==============================] - 7s 5ms/step - loss: 0.0541 - val_loss: 0.0566\n",
            "Epoch 5/10\n",
            "1407/1407 [==============================] - 8s 6ms/step - loss: 0.0536 - val_loss: 0.0571\n",
            "Epoch 6/10\n",
            "1407/1407 [==============================] - 8s 6ms/step - loss: 0.0531 - val_loss: 0.0563\n",
            "Epoch 7/10\n",
            "1407/1407 [==============================] - 7s 5ms/step - loss: 0.0522 - val_loss: 0.0564\n",
            "Epoch 8/10\n",
            "1407/1407 [==============================] - 7s 5ms/step - loss: 0.0515 - val_loss: 0.0561\n",
            "Epoch 9/10\n",
            "1407/1407 [==============================] - 7s 5ms/step - loss: 0.0510 - val_loss: 0.0561\n",
            "Epoch 10/10\n",
            "1407/1407 [==============================] - 8s 6ms/step - loss: 0.0505 - val_loss: 0.0561\n"
          ]
        }
      ]
    },
    {
      "cell_type": "code",
      "source": [
        "plot_graph(history, \"loss\")"
      ],
      "metadata": {
        "colab": {
          "base_uri": "https://localhost:8080/",
          "height": 279
        },
        "id": "ZKkJZgcC_F7I",
        "outputId": "364b0218-98ac-462b-ecd8-b3d730df6dad"
      },
      "execution_count": 90,
      "outputs": [
        {
          "output_type": "display_data",
          "data": {
            "text/plain": [
              "<Figure size 432x288 with 1 Axes>"
            ],
            "image/png": "[encoded data removed]"
          },
          "metadata": {
            "needs_background": "light"
          }
        }
      ]
    },
    {
      "cell_type": "code",
      "source": [
        "recovered_model = build_GMF(embedding_dim, n_users, n_items)\n",
        "recovered_model.load_weights(tf.train.latest_checkpoint(checkpoint_dir))\n",
        "recovered_model.build(tf.TensorShape([1, None]))"
      ],
      "metadata": {
        "colab": {
          "base_uri": "https://localhost:8080/"
        },
        "id": "Nk10sxve_HSg",
        "outputId": "983f90fb-60b3-40f1-dfea-4b6a727811e7"
      },
      "execution_count": 91,
      "outputs": [
        {
          "output_type": "stream",
          "name": "stdout",
          "text": [
            "Model: \"model_10\"\n",
            "__________________________________________________________________________________________________\n",
            " Layer (type)                   Output Shape         Param #     Connected to                     \n",
            "==================================================================================================\n",
            " input_21 (InputLayer)          [(None, 1)]          0           []                               \n",
            "                                                                                                  \n",
            " input_22 (InputLayer)          [(None, 1)]          0           []                               \n",
            "                                                                                                  \n",
            " embedding_24 (Embedding)       (None, 1, 100)       94300       ['input_21[0][0]']               \n",
            "                                                                                                  \n",
            " embedding_25 (Embedding)       (None, 1, 100)       168200      ['input_22[0][0]']               \n",
            "                                                                                                  \n",
            " reshape_16 (Reshape)           (None, 100)          0           ['embedding_24[0][0]']           \n",
            "                                                                                                  \n",
            " reshape_17 (Reshape)           (None, 100)          0           ['embedding_25[0][0]']           \n",
            "                                                                                                  \n",
            " dot_8 (Dot)                    (None, 1)            0           ['reshape_16[0][0]',             \n",
            "                                                                  'reshape_17[0][0]']             \n",
            "                                                                                                  \n",
            "==================================================================================================\n",
            "Total params: 262,500\n",
            "Trainable params: 262,500\n",
            "Non-trainable params: 0\n",
            "__________________________________________________________________________________________________\n",
            "None\n"
          ]
        }
      ]
    },
    {
      "cell_type": "code",
      "source": [
        "prediction = recovered_model(X_test)"
      ],
      "metadata": {
        "id": "xYhRJeja_Iq8"
      },
      "execution_count": 92,
      "outputs": []
    },
    {
      "cell_type": "code",
      "source": [
        "plt.plot(y_test,prediction,'o')\n",
        "plt.xlim(-1.5, 1.5)\n",
        "plt.ylim(-1.5, 1.5)\n",
        "plt.gca().set_aspect('equal', adjustable='box')"
      ],
      "metadata": {
        "colab": {
          "base_uri": "https://localhost:8080/",
          "height": 398
        },
        "id": "4uoTWyRp_Jyx",
        "outputId": "3d499498-a6ce-4c26-acee-99b95939a3e2"
      },
      "execution_count": 93,
      "outputs": [
        {
          "output_type": "stream",
          "name": "stdout",
          "text": [
            "WARNING:tensorflow:Detecting that an object or model or tf.train.Checkpoint is being deleted with unrestored values. See the following logs for the specific values in question. To silence these warnings, use `status.expect_partial()`. See https://www.tensorflow.org/api_docs/python/tf/train/Checkpoint#restorefor details about the status object returned by the restore function.\n",
            "WARNING:tensorflow:Value in checkpoint could not be found in the restored object: (root).optimizer.iter\n",
            "WARNING:tensorflow:Value in checkpoint could not be found in the restored object: (root).optimizer.decay\n",
            "WARNING:tensorflow:Value in checkpoint could not be found in the restored object: (root).optimizer.learning_rate\n",
            "WARNING:tensorflow:Value in checkpoint could not be found in the restored object: (root).optimizer's state 'accumulator' for (root).layer_with_weights-0.embeddings\n",
            "WARNING:tensorflow:Value in checkpoint could not be found in the restored object: (root).optimizer's state 'accumulator' for (root).layer_with_weights-1.embeddings\n"
          ]
        },
        {
          "output_type": "display_data",
          "data": {
            "text/plain": [
              "<Figure size 432x288 with 1 Axes>"
            ],
            "image/png": "[encoded data removed]"
          },
          "metadata": {
            "needs_background": "light"
          }
        }
      ]
    },
    {
      "cell_type": "code",
      "source": [
        "def build_NCF(embedding_dim, n_users, n_items):\n",
        "    user_input = tf.keras.layers.Input(shape=(1,)) # user\n",
        "    product_input = tf.keras.layers.Input(shape=(1,)) # movie\n",
        "\n",
        "    # Embedding of GMF\n",
        "    User_embedding_gmf = tf.keras.layers.Embedding(n_users, embedding_dim,\n",
        "                                             embeddings_regularizer=tf.keras.regularizers.l2(1e-6))(user_input)\n",
        "    Product_embedding_gmf = tf.keras.layers.Embedding(n_items, embedding_dim,\n",
        "                                                embeddings_regularizer=tf.keras.regularizers.l2(1e-6))(product_input)\n",
        "\n",
        "    # Embedding of MLP\n",
        "    User_embedding_mlp = tf.keras.layers.Embedding(n_users, embedding_dim,\n",
        "                                            embeddings_initializer= \"normal\",\n",
        "                                            embeddings_regularizer=tf.keras.regularizers.l2(1e-6))(user_input)\n",
        "    Product_embedding_mlp = tf.keras.layers.Embedding(n_items, embedding_dim, \n",
        "                                                    embeddings_initializer= \"normal\",\n",
        "                                                    embeddings_regularizer=tf.keras.regularizers.l2(1e-6))(product_input)\n",
        "\n",
        "    # GMF: Matrix Multiplication\n",
        "    u = tf.keras.layers.Flatten()(User_embedding_gmf)\n",
        "    v = tf.keras.layers.Flatten()(Product_embedding_gmf)\n",
        "    output_gmf = tf.keras.layers.Dot(axes=1)([u, v])\n",
        "\n",
        "    # MLP: Concatenation of the two embedding\n",
        "    u_mlp = tf.keras.layers.Flatten()(User_embedding_mlp)\n",
        "    v_mlp = tf.keras.layers.Flatten()(Product_embedding_mlp)\n",
        "\n",
        "    u_mlp = tf.keras.layers.Dropout(0.5)(u_mlp)\n",
        "    v_mlp = tf.keras.layers.Dropout(0.5)(v_mlp)\n",
        "\n",
        "    merged_mlp = tf.keras.layers.Concatenate(axis=1)([u_mlp, v_mlp])\n",
        "\n",
        "\n",
        "    fcn = tf.keras.layers.Dense(64, activation='relu',\n",
        "                              kernel_regularizer=tf.keras.regularizers.l2(1e-6),\n",
        "                              activity_regularizer = tf.keras.regularizers.l2(1e-6))(merged_mlp)\n",
        "\n",
        "    fcn = tf.keras.layers.Dense(32, activation='relu',kernel_regularizer=tf.keras.regularizers.l2(1e-6))(fcn)\n",
        "\n",
        "    fcn = tf.keras.layers.Dense(16, activation='relu', kernel_regularizer=tf.keras.regularizers.l2(1e-6))(fcn)\n",
        "    output_mlp = tf.keras.layers.Dense(8, activation='relu', kernel_regularizer=tf.keras.regularizers.l2(1e-6))(fcn)\n",
        "\n",
        "    #merge two output\n",
        "    merged = tf.keras.layers.Concatenate(axis=1)([output_mlp, output_gmf])\n",
        "    output = tf.keras.layers.Dense(1, activation='sigmoid', kernel_initializer=\"lecun_uniform\")(merged)\n",
        "\n",
        "    model = tf.keras.Model(inputs=[user_input, product_input], outputs=output)\n",
        "    print(model.summary())\n",
        "    return(model)"
      ],
      "metadata": {
        "id": "xyd_DNwu_Lgr"
      },
      "execution_count": 101,
      "outputs": []
    },
    {
      "cell_type": "code",
      "source": [
        "embedding_dim = 100\n",
        "NCF_model = build_NCF(embedding_dim, n_users, n_items)"
      ],
      "metadata": {
        "colab": {
          "base_uri": "https://localhost:8080/"
        },
        "id": "snwxslRt_OVk",
        "outputId": "a0c3336a-ecfe-4946-9af8-40c29a9b61d7"
      },
      "execution_count": 95,
      "outputs": [
        {
          "output_type": "stream",
          "name": "stdout",
          "text": [
            "Model: \"model_11\"\n",
            "__________________________________________________________________________________________________\n",
            " Layer (type)                   Output Shape         Param #     Connected to                     \n",
            "==================================================================================================\n",
            " input_23 (InputLayer)          [(None, 1)]          0           []                               \n",
            "                                                                                                  \n",
            " input_24 (InputLayer)          [(None, 1)]          0           []                               \n",
            "                                                                                                  \n",
            " embedding_28 (Embedding)       (None, 1, 100)       94300       ['input_23[0][0]']               \n",
            "                                                                                                  \n",
            " embedding_29 (Embedding)       (None, 1, 100)       168200      ['input_24[0][0]']               \n",
            "                                                                                                  \n",
            " flatten_10 (Flatten)           (None, 100)          0           ['embedding_28[0][0]']           \n",
            "                                                                                                  \n",
            " flatten_11 (Flatten)           (None, 100)          0           ['embedding_29[0][0]']           \n",
            "                                                                                                  \n",
            " dropout_8 (Dropout)            (None, 100)          0           ['flatten_10[0][0]']             \n",
            "                                                                                                  \n",
            " dropout_9 (Dropout)            (None, 100)          0           ['flatten_11[0][0]']             \n",
            "                                                                                                  \n",
            " concatenate_6 (Concatenate)    (None, 200)          0           ['dropout_8[0][0]',              \n",
            "                                                                  'dropout_9[0][0]']              \n",
            "                                                                                                  \n",
            " dense_20 (Dense)               (None, 64)           12864       ['concatenate_6[0][0]']          \n",
            "                                                                                                  \n",
            " dense_21 (Dense)               (None, 32)           2080        ['dense_20[0][0]']               \n",
            "                                                                                                  \n",
            " embedding_26 (Embedding)       (None, 1, 100)       94300       ['input_23[0][0]']               \n",
            "                                                                                                  \n",
            " embedding_27 (Embedding)       (None, 1, 100)       168200      ['input_24[0][0]']               \n",
            "                                                                                                  \n",
            " dense_22 (Dense)               (None, 16)           528         ['dense_21[0][0]']               \n",
            "                                                                                                  \n",
            " flatten_8 (Flatten)            (None, 100)          0           ['embedding_26[0][0]']           \n",
            "                                                                                                  \n",
            " flatten_9 (Flatten)            (None, 100)          0           ['embedding_27[0][0]']           \n",
            "                                                                                                  \n",
            " dense_23 (Dense)               (None, 8)            136         ['dense_22[0][0]']               \n",
            "                                                                                                  \n",
            " dot_9 (Dot)                    (None, 1)            0           ['flatten_8[0][0]',              \n",
            "                                                                  'flatten_9[0][0]']              \n",
            "                                                                                                  \n",
            " concatenate_7 (Concatenate)    (None, 9)            0           ['dense_23[0][0]',               \n",
            "                                                                  'dot_9[0][0]']                  \n",
            "                                                                                                  \n",
            " dense_24 (Dense)               (None, 1)            10          ['concatenate_7[0][0]']          \n",
            "                                                                                                  \n",
            "==================================================================================================\n",
            "Total params: 540,618\n",
            "Trainable params: 540,618\n",
            "Non-trainable params: 0\n",
            "__________________________________________________________________________________________________\n",
            "None\n"
          ]
        }
      ]
    },
    {
      "cell_type": "code",
      "source": [
        "opt = tf.keras.optimizers.Adagrad(learning_rate=0.5)  #Use Adagrad to get faster learning rate\n",
        "# opt = tf.keras.optimizers.Adam(learning_rate=0.01)  \n",
        "\n",
        "NCF_model.compile(loss='mean_squared_error', optimizer=opt)\n",
        "\n",
        "history = NCF_model.fit(x=X_train, y=y_train,\n",
        "                  batch_size=64, epochs=10,\n",
        "                  validation_data= (X_test, y_test),\n",
        "                  callbacks=[checkpoint_callback, es])"
      ],
      "metadata": {
        "colab": {
          "base_uri": "https://localhost:8080/"
        },
        "id": "33kxBGij_P1D",
        "outputId": "3a05b529-7d0c-4049-9563-c0817f820b79"
      },
      "execution_count": 96,
      "outputs": [
        {
          "output_type": "stream",
          "name": "stdout",
          "text": [
            "Epoch 1/10\n",
            "1407/1407 [==============================] - 14s 9ms/step - loss: 0.0715 - val_loss: 0.0626\n",
            "Epoch 2/10\n",
            "1407/1407 [==============================] - 9s 7ms/step - loss: 0.0598 - val_loss: 0.0586\n",
            "Epoch 3/10\n",
            "1407/1407 [==============================] - 10s 7ms/step - loss: 0.0576 - val_loss: 0.0588\n",
            "Epoch 4/10\n",
            "1407/1407 [==============================] - 9s 7ms/step - loss: 0.0562 - val_loss: 0.0575\n",
            "Epoch 5/10\n",
            "1407/1407 [==============================] - 9s 6ms/step - loss: 0.0554 - val_loss: 0.0570\n",
            "Epoch 6/10\n",
            "1407/1407 [==============================] - 9s 6ms/step - loss: 0.0549 - val_loss: 0.0571\n",
            "Epoch 7/10\n",
            "1407/1407 [==============================] - 9s 6ms/step - loss: 0.0543 - val_loss: 0.0571\n",
            "Epoch 8/10\n",
            "1407/1407 [==============================] - 9s 7ms/step - loss: 0.0539 - val_loss: 0.0569\n",
            "Epoch 9/10\n",
            "1407/1407 [==============================] - 9s 7ms/step - loss: 0.0536 - val_loss: 0.0570\n",
            "Epoch 10/10\n",
            "1407/1407 [==============================] - 9s 7ms/step - loss: 0.0532 - val_loss: 0.0565\n"
          ]
        }
      ]
    },
    {
      "cell_type": "code",
      "source": [
        "plot_graph(history, \"loss\")"
      ],
      "metadata": {
        "colab": {
          "base_uri": "https://localhost:8080/",
          "height": 279
        },
        "id": "2Ey2PDHy_RTb",
        "outputId": "1fe92c60-dc17-4d88-a082-fbbe1acdad1d"
      },
      "execution_count": 97,
      "outputs": [
        {
          "output_type": "display_data",
          "data": {
            "text/plain": [
              "<Figure size 432x288 with 1 Axes>"
            ],
            "image/png": "[encoded data removed]"
          },
          "metadata": {
            "needs_background": "light"
          }
        }
      ]
    },
    {
      "cell_type": "code",
      "source": [
        "recovered_model = build_NCF(embedding_dim, n_users, n_items)\n",
        "recovered_model.load_weights(tf.train.latest_checkpoint(checkpoint_dir))\n",
        "recovered_model.build(tf.TensorShape([1, None]))"
      ],
      "metadata": {
        "colab": {
          "base_uri": "https://localhost:8080/"
        },
        "id": "7rbOb_MN_VNt",
        "outputId": "2bb69d93-dabf-4d43-f764-56571fbe77cc"
      },
      "execution_count": 98,
      "outputs": [
        {
          "output_type": "stream",
          "name": "stdout",
          "text": [
            "Model: \"model_12\"\n",
            "__________________________________________________________________________________________________\n",
            " Layer (type)                   Output Shape         Param #     Connected to                     \n",
            "==================================================================================================\n",
            " input_25 (InputLayer)          [(None, 1)]          0           []                               \n",
            "                                                                                                  \n",
            " input_26 (InputLayer)          [(None, 1)]          0           []                               \n",
            "                                                                                                  \n",
            " embedding_32 (Embedding)       (None, 1, 100)       94300       ['input_25[0][0]']               \n",
            "                                                                                                  \n",
            " embedding_33 (Embedding)       (None, 1, 100)       168200      ['input_26[0][0]']               \n",
            "                                                                                                  \n",
            " flatten_14 (Flatten)           (None, 100)          0           ['embedding_32[0][0]']           \n",
            "                                                                                                  \n",
            " flatten_15 (Flatten)           (None, 100)          0           ['embedding_33[0][0]']           \n",
            "                                                                                                  \n",
            " dropout_10 (Dropout)           (None, 100)          0           ['flatten_14[0][0]']             \n",
            "                                                                                                  \n",
            " dropout_11 (Dropout)           (None, 100)          0           ['flatten_15[0][0]']             \n",
            "                                                                                                  \n",
            " concatenate_8 (Concatenate)    (None, 200)          0           ['dropout_10[0][0]',             \n",
            "                                                                  'dropout_11[0][0]']             \n",
            "                                                                                                  \n",
            " dense_25 (Dense)               (None, 64)           12864       ['concatenate_8[0][0]']          \n",
            "                                                                                                  \n",
            " dense_26 (Dense)               (None, 32)           2080        ['dense_25[0][0]']               \n",
            "                                                                                                  \n",
            " embedding_30 (Embedding)       (None, 1, 100)       94300       ['input_25[0][0]']               \n",
            "                                                                                                  \n",
            " embedding_31 (Embedding)       (None, 1, 100)       168200      ['input_26[0][0]']               \n",
            "                                                                                                  \n",
            " dense_27 (Dense)               (None, 16)           528         ['dense_26[0][0]']               \n",
            "                                                                                                  \n",
            " flatten_12 (Flatten)           (None, 100)          0           ['embedding_30[0][0]']           \n",
            "                                                                                                  \n",
            " flatten_13 (Flatten)           (None, 100)          0           ['embedding_31[0][0]']           \n",
            "                                                                                                  \n",
            " dense_28 (Dense)               (None, 8)            136         ['dense_27[0][0]']               \n",
            "                                                                                                  \n",
            " dot_10 (Dot)                   (None, 1)            0           ['flatten_12[0][0]',             \n",
            "                                                                  'flatten_13[0][0]']             \n",
            "                                                                                                  \n",
            " concatenate_9 (Concatenate)    (None, 9)            0           ['dense_28[0][0]',               \n",
            "                                                                  'dot_10[0][0]']                 \n",
            "                                                                                                  \n",
            " dense_29 (Dense)               (None, 1)            10          ['concatenate_9[0][0]']          \n",
            "                                                                                                  \n",
            "==================================================================================================\n",
            "Total params: 540,618\n",
            "Trainable params: 540,618\n",
            "Non-trainable params: 0\n",
            "__________________________________________________________________________________________________\n",
            "None\n",
            "WARNING:tensorflow:Detecting that an object or model or tf.train.Checkpoint is being deleted with unrestored values. See the following logs for the specific values in question. To silence these warnings, use `status.expect_partial()`. See https://www.tensorflow.org/api_docs/python/tf/train/Checkpoint#restorefor details about the status object returned by the restore function.\n",
            "WARNING:tensorflow:Value in checkpoint could not be found in the restored object: (root).layer_with_weights-2.kernel\n",
            "WARNING:tensorflow:Value in checkpoint could not be found in the restored object: (root).layer_with_weights-2.bias\n",
            "WARNING:tensorflow:Value in checkpoint could not be found in the restored object: (root).layer_with_weights-3.kernel\n",
            "WARNING:tensorflow:Value in checkpoint could not be found in the restored object: (root).layer_with_weights-3.bias\n"
          ]
        }
      ]
    },
    {
      "cell_type": "code",
      "source": [
        "prediction = recovered_model(X_test)"
      ],
      "metadata": {
        "colab": {
          "base_uri": "https://localhost:8080/"
        },
        "id": "d3RwDutG_XF_",
        "outputId": "b207a931-0a44-475e-ebe1-8adf0a4fc8e7"
      },
      "execution_count": 99,
      "outputs": [
        {
          "output_type": "stream",
          "name": "stdout",
          "text": [
            "WARNING:tensorflow:Value in checkpoint could not be found in the restored object: (root).layer_with_weights-4.kernel\n",
            "WARNING:tensorflow:Value in checkpoint could not be found in the restored object: (root).layer_with_weights-4.bias\n",
            "WARNING:tensorflow:Value in checkpoint could not be found in the restored object: (root).layer_with_weights-5.kernel\n",
            "WARNING:tensorflow:Value in checkpoint could not be found in the restored object: (root).layer_with_weights-5.bias\n",
            "WARNING:tensorflow:Value in checkpoint could not be found in the restored object: (root).layer_with_weights-6.kernel\n",
            "WARNING:tensorflow:Value in checkpoint could not be found in the restored object: (root).layer_with_weights-6.bias\n",
            "WARNING:tensorflow:Value in checkpoint could not be found in the restored object: (root).optimizer.iter\n",
            "WARNING:tensorflow:Value in checkpoint could not be found in the restored object: (root).optimizer.beta_1\n",
            "WARNING:tensorflow:Value in checkpoint could not be found in the restored object: (root).optimizer.beta_2\n",
            "WARNING:tensorflow:Value in checkpoint could not be found in the restored object: (root).optimizer.decay\n",
            "WARNING:tensorflow:Value in checkpoint could not be found in the restored object: (root).optimizer.learning_rate\n",
            "WARNING:tensorflow:Value in checkpoint could not be found in the restored object: (root).optimizer's state 'm' for (root).layer_with_weights-0.embeddings\n",
            "WARNING:tensorflow:Value in checkpoint could not be found in the restored object: (root).optimizer's state 'm' for (root).layer_with_weights-1.embeddings\n",
            "WARNING:tensorflow:Value in checkpoint could not be found in the restored object: (root).optimizer's state 'm' for (root).layer_with_weights-2.kernel\n",
            "WARNING:tensorflow:Value in checkpoint could not be found in the restored object: (root).optimizer's state 'm' for (root).layer_with_weights-2.bias\n",
            "WARNING:tensorflow:Value in checkpoint could not be found in the restored object: (root).optimizer's state 'm' for (root).layer_with_weights-3.kernel\n",
            "WARNING:tensorflow:Value in checkpoint could not be found in the restored object: (root).optimizer's state 'm' for (root).layer_with_weights-3.bias\n",
            "WARNING:tensorflow:Value in checkpoint could not be found in the restored object: (root).optimizer's state 'm' for (root).layer_with_weights-4.kernel\n",
            "WARNING:tensorflow:Value in checkpoint could not be found in the restored object: (root).optimizer's state 'm' for (root).layer_with_weights-4.bias\n",
            "WARNING:tensorflow:Value in checkpoint could not be found in the restored object: (root).optimizer's state 'm' for (root).layer_with_weights-5.kernel\n",
            "WARNING:tensorflow:Value in checkpoint could not be found in the restored object: (root).optimizer's state 'm' for (root).layer_with_weights-5.bias\n",
            "WARNING:tensorflow:Value in checkpoint could not be found in the restored object: (root).optimizer's state 'm' for (root).layer_with_weights-6.kernel\n",
            "WARNING:tensorflow:Value in checkpoint could not be found in the restored object: (root).optimizer's state 'm' for (root).layer_with_weights-6.bias\n",
            "WARNING:tensorflow:Value in checkpoint could not be found in the restored object: (root).optimizer's state 'v' for (root).layer_with_weights-0.embeddings\n",
            "WARNING:tensorflow:Value in checkpoint could not be found in the restored object: (root).optimizer's state 'v' for (root).layer_with_weights-1.embeddings\n",
            "WARNING:tensorflow:Value in checkpoint could not be found in the restored object: (root).optimizer's state 'v' for (root).layer_with_weights-2.kernel\n",
            "WARNING:tensorflow:Value in checkpoint could not be found in the restored object: (root).optimizer's state 'v' for (root).layer_with_weights-2.bias\n",
            "WARNING:tensorflow:Value in checkpoint could not be found in the restored object: (root).optimizer's state 'v' for (root).layer_with_weights-3.kernel\n",
            "WARNING:tensorflow:Value in checkpoint could not be found in the restored object: (root).optimizer's state 'v' for (root).layer_with_weights-3.bias\n",
            "WARNING:tensorflow:Value in checkpoint could not be found in the restored object: (root).optimizer's state 'v' for (root).layer_with_weights-4.kernel\n",
            "WARNING:tensorflow:Value in checkpoint could not be found in the restored object: (root).optimizer's state 'v' for (root).layer_with_weights-4.bias\n"
          ]
        }
      ]
    },
    {
      "cell_type": "code",
      "source": [
        "plt.plot(y_test,prediction,'o')\n",
        "plt.xlim(-1.5, 1.5)\n",
        "plt.ylim(-1.5, 1.5)\n",
        "plt.gca().set_aspect('equal', adjustable='box')"
      ],
      "metadata": {
        "colab": {
          "base_uri": "https://localhost:8080/",
          "height": 342
        },
        "id": "A9Tba-Tn_Yd3",
        "outputId": "a98e301a-3eab-44d8-d5a3-d5a117de0131"
      },
      "execution_count": 100,
      "outputs": [
        {
          "output_type": "stream",
          "name": "stdout",
          "text": [
            "WARNING:tensorflow:Value in checkpoint could not be found in the restored object: (root).optimizer's state 'v' for (root).layer_with_weights-5.kernel\n",
            "WARNING:tensorflow:Value in checkpoint could not be found in the restored object: (root).optimizer's state 'v' for (root).layer_with_weights-5.bias\n",
            "WARNING:tensorflow:Value in checkpoint could not be found in the restored object: (root).optimizer's state 'v' for (root).layer_with_weights-6.kernel\n",
            "WARNING:tensorflow:Value in checkpoint could not be found in the restored object: (root).optimizer's state 'v' for (root).layer_with_weights-6.bias\n"
          ]
        },
        {
          "output_type": "display_data",
          "data": {
            "text/plain": [
              "<Figure size 432x288 with 1 Axes>"
            ],
            "image/png": "[encoded data removed]"
          },
          "metadata": {
            "needs_background": "light"
          }
        }
      ]
    }
  ]
}